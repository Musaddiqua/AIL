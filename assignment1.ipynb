{
  "nbformat": 4,
  "nbformat_minor": 0,
  "metadata": {
    "colab": {
      "provenance": [],
      "authorship_tag": "ABX9TyO3gBjZM1U8+JStpTmn8Xu4",
      "include_colab_link": true
    },
    "kernelspec": {
      "name": "python3",
      "display_name": "Python 3"
    },
    "language_info": {
      "name": "python"
    }
  },
  "cells": [
    {
      "cell_type": "markdown",
      "metadata": {
        "id": "view-in-github",
        "colab_type": "text"
      },
      "source": [
        "<a href=\"https://colab.research.google.com/github/Musaddiqua/AIL/blob/main/assignment1.ipynb\" target=\"_parent\"><img src=\"https://colab.research.google.com/assets/colab-badge.svg\" alt=\"Open In Colab\"/></a>"
      ]
    },
    {
      "cell_type": "code",
      "execution_count": null,
      "metadata": {
        "colab": {
          "base_uri": "https://localhost:8080/"
        },
        "id": "z4bj7UXDCdeV",
        "outputId": "40938618-cc79-470d-aa46-a8f02b1c576d"
      },
      "outputs": [
        {
          "output_type": "stream",
          "name": "stdout",
          "text": [
            "enter a:2\n",
            "enter b:1\n",
            "a+b = 3\n"
          ]
        }
      ],
      "source": [
        "# Add two numbers input by the user.\n",
        "a = int(input(\"enter a:\"))\n",
        "b = int(input(\"enter b:\"))\n",
        "print(\"a+b =\", a+b)"
      ]
    },
    {
      "cell_type": "code",
      "source": [
        "#Find the area of a circle.\n",
        "r = int(input(\"enter the value for radius:\"))\n",
        "area = 3.14*r**2\n",
        "print(\"area of circle is:\",area)"
      ],
      "metadata": {
        "colab": {
          "base_uri": "https://localhost:8080/"
        },
        "id": "k8qRDRysDWsH",
        "outputId": "88869a03-c00a-4dc0-e7c9-062a5c8309c1"
      },
      "execution_count": null,
      "outputs": [
        {
          "output_type": "stream",
          "name": "stdout",
          "text": [
            "enter the value for radius:2\n",
            "area of circle is: 12.56\n"
          ]
        }
      ]
    },
    {
      "cell_type": "code",
      "source": [
        "#Convert Celsius to Fahrenheit.\n",
        "\n",
        "celsius = float(input(\"Enter temperature in Celsius: \"))\n",
        "fahrenheit = (celsius * 9/5) + 32\n",
        "print(\"Temperature in Fahrenheit:\", fahrenheit)"
      ],
      "metadata": {
        "colab": {
          "base_uri": "https://localhost:8080/"
        },
        "id": "BomhkmVFEs9C",
        "outputId": "21d0d2fb-1717-4589-f558-7472535e4d31"
      },
      "execution_count": null,
      "outputs": [
        {
          "output_type": "stream",
          "name": "stdout",
          "text": [
            "Enter temperature in Celsius: 33.1\n",
            "Temperature in Fahrenheit: 91.58000000000001\n"
          ]
        }
      ]
    },
    {
      "cell_type": "code",
      "source": [
        "#Check if a number is even or odd using the modulo operator.\n",
        "n = int(input(\"enter a number\"))\n",
        "if n%2==0:\n",
        "    print(\"even\")\n",
        "else:\n",
        "    print(\"odd\")"
      ],
      "metadata": {
        "colab": {
          "base_uri": "https://localhost:8080/"
        },
        "id": "mgBusWKjGQHV",
        "outputId": "eb20d26b-d608-4614-cbc8-d96228f49a26"
      },
      "execution_count": null,
      "outputs": [
        {
          "output_type": "stream",
          "name": "stdout",
          "text": [
            "enter a number45\n",
            "odd\n"
          ]
        }
      ]
    },
    {
      "cell_type": "code",
      "source": [
        "#Find the square and cube of a number.\n",
        "n = int(input(\"enter a number\"))\n",
        "print(\"square of number is:\",n**2)\n",
        "print(\"cube of number is:\",n**3)"
      ],
      "metadata": {
        "colab": {
          "base_uri": "https://localhost:8080/"
        },
        "id": "0at8l8azIH1a",
        "outputId": "22660e2f-6f25-455c-b0cf-8f1006443b48"
      },
      "execution_count": null,
      "outputs": [
        {
          "output_type": "stream",
          "name": "stdout",
          "text": [
            "enter a number5\n",
            "square of number is: 25\n",
            "cube of number is: 125\n"
          ]
        }
      ]
    },
    {
      "cell_type": "code",
      "source": [
        "s = input(\"Enter a string: \")\n",
        "count = 0\n",
        "for char in s:\n",
        "    count += 1\n",
        "print(\"Length of string is:\", count)\n"
      ],
      "metadata": {
        "colab": {
          "base_uri": "https://localhost:8080/"
        },
        "id": "O9BBZwKkIjWu",
        "outputId": "e652b2e8-fa2a-4274-ee7f-439da8fc4ff0"
      },
      "execution_count": null,
      "outputs": [
        {
          "output_type": "stream",
          "name": "stdout",
          "text": [
            "Enter a string: mushroom\n",
            "Length of string is: 8\n"
          ]
        }
      ]
    },
    {
      "cell_type": "code",
      "source": [
        "#Reverse a string(1).\n",
        "s = input(\"enter a string:\")\n",
        "print(\"reverse of string is:\",s[::-1])"
      ],
      "metadata": {
        "colab": {
          "base_uri": "https://localhost:8080/"
        },
        "id": "CU0QHYn5Jcot",
        "outputId": "2af53d2d-ba87-4540-9400-71b0dbfa3475"
      },
      "execution_count": null,
      "outputs": [
        {
          "output_type": "stream",
          "name": "stdout",
          "text": [
            "enter a string:book\n",
            "reverse of string is: koob\n"
          ]
        }
      ]
    },
    {
      "cell_type": "code",
      "source": [
        "#Reverse a string(2).\n",
        "s = input(\"Enter a string: \")\n",
        "reversed_s = \"\"\n",
        "for char in s:\n",
        "    reversed_s= char + reversed_s\n",
        "print(\"Reverse of string is:\", reversed_s)\n"
      ],
      "metadata": {
        "colab": {
          "base_uri": "https://localhost:8080/"
        },
        "id": "9QeQi-l_JxRh",
        "outputId": "0d2bdb55-fb76-4f82-81d5-4fe4de5a9226"
      },
      "execution_count": null,
      "outputs": [
        {
          "output_type": "stream",
          "name": "stdout",
          "text": [
            "Enter a string: kite\n",
            "Reverse of string is: etik\n"
          ]
        }
      ]
    },
    {
      "cell_type": "code",
      "source": [
        "#Check if a string is a palindrome(1).\n",
        "s = input(\"Enter a string: \")\n",
        "if s == s[::-1]:\n",
        "    print(\"String is palindrome\")\n",
        "else:\n",
        "    print(\"String is not palindrome\")"
      ],
      "metadata": {
        "colab": {
          "base_uri": "https://localhost:8080/"
        },
        "id": "xyEQmZaxK62T",
        "outputId": "ca51723c-ca04-449f-992b-482326f68bc6"
      },
      "execution_count": null,
      "outputs": [
        {
          "output_type": "stream",
          "name": "stdout",
          "text": [
            "Enter a string: LOL\n",
            "String is palindrome\n"
          ]
        }
      ]
    },
    {
      "cell_type": "code",
      "source": [
        "#Check if a string is a palindrome.(2)\n",
        "s = input(\"Enter a string: \")\n",
        "reversed_string = \"\"\n",
        "for char in s:\n",
        "    reversed_string = char + reversed_string\n",
        "\n",
        "if s == reversed_string:\n",
        "    print(\"String is palindrome\")\n",
        "else:\n",
        "    print(\"String is not palindrome\")\n"
      ],
      "metadata": {
        "colab": {
          "base_uri": "https://localhost:8080/"
        },
        "id": "gS8UFtN2L4Pr",
        "outputId": "e535338a-4b9f-4d9a-a989-469f7295faa1"
      },
      "execution_count": null,
      "outputs": [
        {
          "output_type": "stream",
          "name": "stdout",
          "text": [
            "Enter a string: game\n",
            "String is not palindrome\n"
          ]
        }
      ]
    },
    {
      "cell_type": "code",
      "source": [
        "#Count vowels in a given string.\n",
        "s = input(\"Enter a string: \")\n",
        "vowels = \"aeiouAEIOU\"\n",
        "count = 0\n",
        "\n",
        "for char in s:\n",
        "    if char in vowels:\n",
        "        count += 1\n",
        "\n",
        "print(\"Number of vowels in the string:\", count)\n"
      ],
      "metadata": {
        "colab": {
          "base_uri": "https://localhost:8080/"
        },
        "id": "hjWr-UqWMjH4",
        "outputId": "8a59039c-fe8d-447b-f63e-3d391116e9ec"
      },
      "execution_count": null,
      "outputs": [
        {
          "output_type": "stream",
          "name": "stdout",
          "text": [
            "Enter a string: engineering\n",
            "Number of vowels in the string: 5\n"
          ]
        }
      ]
    },
    {
      "cell_type": "code",
      "source": [
        "#Concatenate two strings and print the result.\n",
        "a = input(\"enter a string:\")\n",
        "b = input(\"enter a string:\")\n",
        "print(\"concatenated string is:\",a+b)"
      ],
      "metadata": {
        "colab": {
          "base_uri": "https://localhost:8080/"
        },
        "id": "7srAYkFiNyRC",
        "outputId": "cb007c39-d6c1-4696-8727-82796851c26c"
      },
      "execution_count": null,
      "outputs": [
        {
          "output_type": "stream",
          "name": "stdout",
          "text": [
            "enter a string:he\n",
            "enter a string:llo\n",
            "concatenated string is: hello\n"
          ]
        }
      ]
    },
    {
      "cell_type": "code",
      "source": [
        "# Create a list of 5 numbers\n",
        "numbers = [10, 20, 30, 40, 50]\n",
        "total = 0\n",
        "for num in numbers:\n",
        "    total += num\n",
        "\n",
        "print(\"Sum of the numbers is:\", total)\n"
      ],
      "metadata": {
        "colab": {
          "base_uri": "https://localhost:8080/"
        },
        "id": "RTjo1XCGOEL_",
        "outputId": "10c1c887-cb3d-4f09-c29b-63c1f2fbeee9"
      },
      "execution_count": null,
      "outputs": [
        {
          "output_type": "stream",
          "name": "stdout",
          "text": [
            "Sum of the numbers is: 150\n"
          ]
        }
      ]
    },
    {
      "cell_type": "code",
      "source": [
        "#Find the largest and smallest number in a list.\n",
        "numbers = [10, 20, 103, 40, 50]\n",
        "largest = numbers[0]\n",
        "smallest = numbers[0]\n",
        "\n",
        "for num in numbers:\n",
        "    if num > largest:\n",
        "        largest = num\n",
        "    elif num < smallest:\n",
        "        smallest = num\n",
        "\n",
        "print(\"Largest number is:\", largest)\n",
        "print(\"Smallest number is:\", smallest)"
      ],
      "metadata": {
        "colab": {
          "base_uri": "https://localhost:8080/"
        },
        "id": "HxQwAL0KPER8",
        "outputId": "b33a492a-4f4f-4c28-f81e-ae33a095cf5e"
      },
      "execution_count": null,
      "outputs": [
        {
          "output_type": "stream",
          "name": "stdout",
          "text": [
            "Largest number is: 103\n",
            "Smallest number is: 10\n"
          ]
        }
      ]
    },
    {
      "cell_type": "code",
      "source": [
        "#Check if a specific element exists in a list.\n",
        "numbers = [10, 20, 103, 40, 50]\n",
        "element = 103\n",
        "\n",
        "if element in numbers:\n",
        "    print(\"Element exists in the list\")\n",
        "else:\n",
        "    print(\"Element does not exist in the list\")"
      ],
      "metadata": {
        "colab": {
          "base_uri": "https://localhost:8080/"
        },
        "id": "HnYkb6mAPWHh",
        "outputId": "e341582e-fcdd-476b-9578-f3d9f1f09451"
      },
      "execution_count": null,
      "outputs": [
        {
          "output_type": "stream",
          "name": "stdout",
          "text": [
            "Element exists in the list\n"
          ]
        }
      ]
    },
    {
      "cell_type": "code",
      "source": [
        "#Convert a tuple to a list and vice versa.\n",
        "# Tuple to List\n",
        "my_tuple = (1, 2, 3, 4, 5)\n",
        "my_list = list(my_tuple)\n",
        "print(\"Tuple converted to list:\", my_list)\n",
        "\n",
        "# List to Tuple\n",
        "new_list = [10, 20, 30, 40]\n",
        "new_tuple = tuple(new_list)\n",
        "print(\"List converted to tuple:\", new_tuple)\n"
      ],
      "metadata": {
        "colab": {
          "base_uri": "https://localhost:8080/"
        },
        "id": "e_iNcHjnP3ZQ",
        "outputId": "b8118f1a-ae29-463d-f7e1-31c3e1fe2d64"
      },
      "execution_count": null,
      "outputs": [
        {
          "output_type": "stream",
          "name": "stdout",
          "text": [
            "Tuple converted to list: [1, 2, 3, 4, 5]\n",
            "List converted to tuple: (10, 20, 30, 40)\n"
          ]
        }
      ]
    },
    {
      "cell_type": "code",
      "source": [
        "#Sort a list in ascending order.\n",
        "numbers = [10, 104, 103, 40, 50]\n",
        "numbers.sort()\n",
        "print(\"Sorted list in ascending order:\", numbers)"
      ],
      "metadata": {
        "colab": {
          "base_uri": "https://localhost:8080/"
        },
        "id": "9muV5g4WQPd7",
        "outputId": "669705b1-52c0-415f-e1fb-3d4c4c935ba9"
      },
      "execution_count": null,
      "outputs": [
        {
          "output_type": "stream",
          "name": "stdout",
          "text": [
            "Sorted list in ascending order: [10, 40, 50, 103, 104]\n"
          ]
        }
      ]
    },
    {
      "cell_type": "code",
      "source": [
        "#Create a dictionary with name and age of 3 people. Print each person's name.\n",
        "person1 = {\"name\": \"Alice\", \"age\": 20}\n",
        "person2 = {\"name\": \"Bob\", \"age\": 23}\n",
        "person3 = {\"name\": \"Charlie\", \"age\": 19}\n",
        "print(\"Name of person1:\", person1[\"name\"])\n",
        "print(\"Name of person2:\", person2[\"name\"])\n",
        "print(\"Name of person3:\", person3[\"name\"])"
      ],
      "metadata": {
        "colab": {
          "base_uri": "https://localhost:8080/"
        },
        "id": "s5v5GJMqQb6f",
        "outputId": "a3c931e5-cb8d-4a99-dd5a-79204897cfc7"
      },
      "execution_count": null,
      "outputs": [
        {
          "output_type": "stream",
          "name": "stdout",
          "text": [
            "Name of person1: Alice\n",
            "Name of person2: Bob\n",
            "Name of person3: Charlie\n"
          ]
        }
      ]
    },
    {
      "cell_type": "code",
      "source": [
        "#Add a new key-value pair to a dictionary.\n",
        "person1 = {\"name\": \"Alice\", \"age\": 20}\n",
        "person1[\"city\"] = \"Belgavi\"\n",
        "print(\"Updated dictionary:\", person1)"
      ],
      "metadata": {
        "colab": {
          "base_uri": "https://localhost:8080/"
        },
        "id": "Bu95RTNMQ26K",
        "outputId": "90879f0b-d491-4b12-869f-71bc7748f0ef"
      },
      "execution_count": null,
      "outputs": [
        {
          "output_type": "stream",
          "name": "stdout",
          "text": [
            "Updated dictionary: {'name': 'Alice', 'age': 20, 'city': 'Belgavi'}\n"
          ]
        }
      ]
    },
    {
      "cell_type": "code",
      "source": [
        "#Check if a key exists in a dictionary(1).\n",
        "person1 = {\"name\": \"Alice\", \"age\": 20}\n",
        "if \"name\" in person1:\n",
        "    print(\"Key 'name' exists in the dictionary\")\n",
        "else:\n",
        "    print(\"Key 'name' does not exist in the dictionary\")"
      ],
      "metadata": {
        "colab": {
          "base_uri": "https://localhost:8080/"
        },
        "id": "F-Ti3azkRHI9",
        "outputId": "b19fb07c-86bf-49e6-c1d3-f280edbb9a16"
      },
      "execution_count": null,
      "outputs": [
        {
          "output_type": "stream",
          "name": "stdout",
          "text": [
            "Key 'name' exists in the dictionary\n"
          ]
        }
      ]
    },
    {
      "cell_type": "code",
      "source": [
        "#Check if a key exists in a dictionary(2).\n",
        "person1 = {\"nick_name\": \"Alice\", \"age\": 20}\n",
        "if \"name\" in person1:\n",
        "    print(\"Key 'name' exists in the dictionary\")\n",
        "else:\n",
        "    print(\"Key 'name' does not exist in the dictionary\")"
      ],
      "metadata": {
        "colab": {
          "base_uri": "https://localhost:8080/"
        },
        "id": "RnK4cOEpRZWO",
        "outputId": "6c9c8814-28de-429b-f6bd-84829dddcc6f"
      },
      "execution_count": null,
      "outputs": [
        {
          "output_type": "stream",
          "name": "stdout",
          "text": [
            "Key 'name' does not exist in the dictionary\n"
          ]
        }
      ]
    },
    {
      "cell_type": "code",
      "source": [
        "#Find the union and intersection of two sets.\n",
        "set1 = {1, 2, 3, 4, 5}\n",
        "set2 = {4, 5, 6, 7, 8}\n",
        "union_set = set1.union(set2)\n",
        "intersection_set = set1.intersection(set2)\n",
        "print(\"Union of sets:\", union_set)\n",
        "print(\"Intersection of sets:\", intersection_set)"
      ],
      "metadata": {
        "colab": {
          "base_uri": "https://localhost:8080/"
        },
        "id": "aBa_Jfg4RiPv",
        "outputId": "3450d412-b955-4989-b131-0a01cd50d13f"
      },
      "execution_count": null,
      "outputs": [
        {
          "output_type": "stream",
          "name": "stdout",
          "text": [
            "Union of sets: {1, 2, 3, 4, 5, 6, 7, 8}\n",
            "Intersection of sets: {4, 5}\n"
          ]
        }
      ]
    },
    {
      "cell_type": "code",
      "source": [
        "#Remove duplicates from a list using a set.\n",
        "my_list = [1, 2, 2, 3, 0, 0 , 4, 4, 5]\n",
        "unique_list = list(set(my_list))\n",
        "print(\"List with duplicates removed:\", unique_list)"
      ],
      "metadata": {
        "colab": {
          "base_uri": "https://localhost:8080/"
        },
        "id": "i9Hfd36AR42f",
        "outputId": "f7c84763-4959-41fe-e63d-a6d6404de9d7"
      },
      "execution_count": null,
      "outputs": [
        {
          "output_type": "stream",
          "name": "stdout",
          "text": [
            "List with duplicates removed: [0, 1, 2, 3, 4, 5]\n"
          ]
        }
      ]
    },
    {
      "cell_type": "code",
      "source": [
        "#Check if a number is positive, negative, or zero.\n",
        "n = int(input(\"enter a number\"))\n",
        "if n>0:\n",
        "    print(\"positive\")\n",
        "elif n<0:\n",
        "    print(\"negative\")\n",
        "else:\n",
        "    print(\"zero\")\n"
      ],
      "metadata": {
        "colab": {
          "base_uri": "https://localhost:8080/"
        },
        "id": "a6rppFyRSDmb",
        "outputId": "6626d51e-f40e-45f1-be97-c2d9faf5b7dd"
      },
      "execution_count": null,
      "outputs": [
        {
          "output_type": "stream",
          "name": "stdout",
          "text": [
            "enter a number0\n",
            "zero\n"
          ]
        }
      ]
    },
    {
      "cell_type": "code",
      "source": [
        "#Check if a year is a leap year.\n",
        "#not getting this (repeat)\n",
        "year = int(input(\"Enter a year: \"))\n",
        "if (year % 4 == 0 and year % 100 != 0) or (year % 400 == 0):\n",
        "    print(year, \"is a leap year\")"
      ],
      "metadata": {
        "colab": {
          "base_uri": "https://localhost:8080/"
        },
        "id": "nG-pSTHqSl56",
        "outputId": "681a1f16-ab04-447c-97c6-0567324d178f"
      },
      "execution_count": null,
      "outputs": [
        {
          "name": "stdout",
          "output_type": "stream",
          "text": [
            "Enter a year: 2022\n"
          ]
        }
      ]
    },
    {
      "cell_type": "code",
      "source": [
        "# Find the maximum of 3 numbers\n",
        "a = int(input(\"Enter first number: \"))\n",
        "b = int(input(\"Enter second number: \"))\n",
        "c = int(input(\"Enter third number: \"))\n",
        "\n",
        "if a > b:\n",
        "    max = a\n",
        "else:\n",
        "    max = b\n",
        "\n",
        "if c > max:\n",
        "    max = c\n",
        "\n",
        "\n",
        "print(\"Maximum number is:\", max)\n"
      ],
      "metadata": {
        "colab": {
          "base_uri": "https://localhost:8080/"
        },
        "id": "9LjELg7tS3wq",
        "outputId": "b8c0f2f1-199a-4f9f-f591-e343268c26b4"
      },
      "execution_count": null,
      "outputs": [
        {
          "output_type": "stream",
          "name": "stdout",
          "text": [
            "Enter first number: 45\n",
            "Enter second number: 1000\n",
            "Enter third number: 20939\n",
            "Maximum number is: 20939\n"
          ]
        }
      ]
    },
    {
      "cell_type": "code",
      "source": [
        "#Check if a number is divisible by both 3 and 5.\n",
        "\n",
        "num = int(input(\"Enter a number: \"))\n",
        "\n",
        "if num % 3 == 0 and num % 5 == 0:\n",
        "    print(\"The number is divisible by both 3 and 5.\")\n",
        "else:\n",
        "    print(\"The number is NOT divisible by both 3 and 5.\")\n"
      ],
      "metadata": {
        "colab": {
          "base_uri": "https://localhost:8080/"
        },
        "id": "jIvPcEVaTiQO",
        "outputId": "7c9bcb9b-35bd-4383-e7de-f626e59d19e9"
      },
      "execution_count": null,
      "outputs": [
        {
          "output_type": "stream",
          "name": "stdout",
          "text": [
            "Enter a number: 15\n",
            "The number is divisible by both 3 and 5.\n"
          ]
        }
      ]
    },
    {
      "cell_type": "code",
      "source": [
        "#Write a calculator that performs +, -, *, / based on user input.\n",
        "\n",
        "num1 = float(input(\"Enter first number: \"))\n",
        "num2 = float(input(\"Enter second number: \"))\n",
        "\n",
        "print(\"Choose an operation: +  -  *  /\")\n",
        "operator = input(\"Enter operator: \")\n",
        "\n",
        "if operator == \"+\":\n",
        "    result = num1 + num2\n",
        "    print(\"Result:\", result)\n",
        "\n",
        "elif operator == \"-\":\n",
        "    result = num1 - num2\n",
        "    print(\"Result:\", result)\n",
        "\n",
        "elif operator == \"*\":\n",
        "    result = num1 * num2\n",
        "    print(\"Result:\", result)\n",
        "\n",
        "elif operator == \"/\":\n",
        "    if num2 != 0:\n",
        "        result = num1 / num2\n",
        "        print(\"Result:\", result)\n",
        "    else:\n",
        "        print(\"Error: Cannot divide by zero.\")\n",
        "\n",
        "else:\n",
        "    print(\"Invalid operator.\")\n",
        "\n"
      ],
      "metadata": {
        "colab": {
          "base_uri": "https://localhost:8080/"
        },
        "id": "9xuC00RgUlcn",
        "outputId": "e7b11e68-97ad-42b3-f467-eff3d2c8a988"
      },
      "execution_count": null,
      "outputs": [
        {
          "output_type": "stream",
          "name": "stdout",
          "text": [
            "Enter first number: 1\n",
            "Enter second number: 3\n",
            "Choose an operation: +  -  *  /\n",
            "Enter operator: *\n",
            "Result: 3.0\n"
          ]
        }
      ]
    },
    {
      "cell_type": "code",
      "source": [
        "#Check if a person is eligible to vote (age >= 18).\n",
        "age = int(input(\"Enter your age: \"))\n",
        "\n",
        "if age >= 18:\n",
        "    print(\"You are eligible to vote.\")\n",
        "else:\n",
        "    print(\"You are not eligible to vote.\")"
      ],
      "metadata": {
        "colab": {
          "base_uri": "https://localhost:8080/"
        },
        "id": "S_ozTZ2DVHVV",
        "outputId": "583dcad5-4d55-494d-dbcc-a1fec7dc0a32"
      },
      "execution_count": null,
      "outputs": [
        {
          "output_type": "stream",
          "name": "stdout",
          "text": [
            "Enter your age: 20\n",
            "You are eligible to vote.\n"
          ]
        }
      ]
    },
    {
      "cell_type": "code",
      "source": [
        "#Check if a number is in a specific range (10 to 50).\n",
        "num = int(input(\"Enter a number: \"))\n",
        "\n",
        "if 10 <= num <= 50:\n",
        "    print(\"The number is in the range of 10 to 50.\")"
      ],
      "metadata": {
        "colab": {
          "base_uri": "https://localhost:8080/"
        },
        "id": "OhfcPBI3VR1e",
        "outputId": "c2ce0d97-8116-4d21-92d2-f8e1066dd8da"
      },
      "execution_count": null,
      "outputs": [
        {
          "output_type": "stream",
          "name": "stdout",
          "text": [
            "Enter a number: 47\n",
            "The number is in the range of 10 to 50.\n"
          ]
        }
      ]
    },
    {
      "cell_type": "code",
      "source": [
        "#Check if two variables point to the same object using is.\n",
        "a = [1, 2, 3]\n",
        "b = a\n",
        "c = [1, 2, 3]\n",
        "\n",
        "print(a is b)\n",
        "print(a is c)\n"
      ],
      "metadata": {
        "colab": {
          "base_uri": "https://localhost:8080/"
        },
        "id": "pfZAvPu9VZ6m",
        "outputId": "8927b599-cc9e-4280-c773-aec0c60f9829"
      },
      "execution_count": null,
      "outputs": [
        {
          "output_type": "stream",
          "name": "stdout",
          "text": [
            "True\n",
            "False\n"
          ]
        }
      ]
    },
    {
      "cell_type": "code",
      "source": [
        "#Use not to invert a Boolean condition.\n",
        "is_sunny = True\n",
        "\n",
        "# Invert the condition\n",
        "if not is_sunny:\n",
        "    print(\"It is not sunny.\")\n",
        "else:\n",
        "    print(\"It is sunny.\")\n"
      ],
      "metadata": {
        "colab": {
          "base_uri": "https://localhost:8080/"
        },
        "id": "EpWFAvTpVttB",
        "outputId": "87d48d45-85bb-460c-f2e0-7ac687372dd4"
      },
      "execution_count": null,
      "outputs": [
        {
          "output_type": "stream",
          "name": "stdout",
          "text": [
            "It is sunny.\n"
          ]
        }
      ]
    },
    {
      "cell_type": "code",
      "source": [
        "#Write an expression using and and or to check multiple conditions.\n",
        "age = int(input(\"Enter your age: \"))\n",
        "has_ticket = input(\"Do you have a ticket? (yes/no): \") == \"yes\"\n",
        "has_vip_pass = input(\"Do you have a VIP pass? (yes/no): \") == \"yes\"\n",
        "\n",
        "if age >= 18 and (has_ticket or has_vip_pass):\n",
        "    print(\"You are allowed to enter.\")\n",
        "else:\n",
        "    print(\"Access denied.\")\n"
      ],
      "metadata": {
        "colab": {
          "base_uri": "https://localhost:8080/"
        },
        "id": "JTOYpYKdV_8T",
        "outputId": "a1e35789-2edb-4e86-93e4-2eaf2d927660"
      },
      "execution_count": null,
      "outputs": [
        {
          "output_type": "stream",
          "name": "stdout",
          "text": [
            "Enter your age: 20\n",
            "Do you have a ticket? (yes/no): yes\n",
            "Do you have a VIP pass? (yes/no): no\n",
            "You are allowed to enter.\n",
            "Enter your age: 20\n",
            "Do you have a ticket? (yes/no): no\n",
            "Do you have a VIP pass? (yes/no): yes\n",
            "You are allowed to enter.\n"
          ]
        }
      ]
    },
    {
      "cell_type": "code",
      "source": [],
      "metadata": {
        "id": "CtJFkY9BWZpP"
      },
      "execution_count": null,
      "outputs": []
    }
  ]
}